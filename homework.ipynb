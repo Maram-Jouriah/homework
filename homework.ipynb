{
 "cells": [
  {
   "cell_type": "code",
   "execution_count": 1,
   "metadata": {},
   "outputs": [],
   "source": [
    "import os"
   ]
  },
  {
   "cell_type": "code",
   "execution_count": 2,
   "metadata": {},
   "outputs": [],
   "source": [
    "import math"
   ]
  },
  {
   "cell_type": "code",
   "execution_count": 50,
   "metadata": {},
   "outputs": [],
   "source": [
    "class Person (object):\n",
    "    \"\"\"\n",
    "    this class inherits from object\n",
    "    it has 4 variables name, age ,position and distance\n",
    "    and 5 functions ,every function is documented down below\n",
    "    \n",
    "    \n",
    "    \"\"\"\n",
    "    \n",
    "    name=\" \"\n",
    "    age=0\n",
    "    position=[0,0]\n",
    "    distance=0\n",
    "    def enter_your_name (self,name):\n",
    "        \"\"\"\n",
    "        this function saves the name of the person that user had named\n",
    "        for example (maram.enter_your_name(\"Maram\"))\n",
    "        \n",
    "        \"\"\"\n",
    "        self.name=name\n",
    "    def print_name (self):\n",
    "        \"\"\"\n",
    "        this function print the name of the Person that we saved before\n",
    "        \n",
    "        \"\"\"\n",
    "        print(self.name)\n",
    "    def move(self,x1,y1,position):\n",
    "        \"\"\"\n",
    "        function move saves the position of the person \n",
    "        calculate the distance between the new position and the one before\n",
    "         \n",
    "        x1 it's the new position on x axis  \n",
    "        y1 it's the new position on y axis\n",
    "        position is a list [x,y] for the last pos\n",
    "        \"\"\"\n",
    "        self.distance=math.sqrt(((x1-position[0])**2)+((y1-position[1])**2))\n",
    "        self.position[0]=x1\n",
    "        self.position[1]=y1\n",
    "       \n",
    "    def my_position (self):\n",
    "        \"\"\"\n",
    "        my_position print the new position x1,y1\n",
    "        \n",
    "        \"\"\"\n",
    "        print(self.position)\n",
    "    def my_distance (self):\n",
    "        \"\"\"\n",
    "        my_distance print the distance that we moved between [x1,y1] and [x,y]\n",
    "        \n",
    "        \"\"\"\n",
    "        print(self.distance)"
   ]
  },
  {
   "cell_type": "code",
   "execution_count": 51,
   "metadata": {},
   "outputs": [],
   "source": [
    "maram=Person()\n",
    "maram.enter_your_name(\"Maram\")"
   ]
  },
  {
   "cell_type": "code",
   "execution_count": 52,
   "metadata": {},
   "outputs": [
    {
     "name": "stdout",
     "output_type": "stream",
     "text": [
      "Maram\n"
     ]
    }
   ],
   "source": [
    "maram.print_name()\n"
   ]
  },
  {
   "cell_type": "code",
   "execution_count": 53,
   "metadata": {},
   "outputs": [],
   "source": [
    "maram.move(10,12,[0,0])"
   ]
  },
  {
   "cell_type": "code",
   "execution_count": 54,
   "metadata": {},
   "outputs": [
    {
     "name": "stdout",
     "output_type": "stream",
     "text": [
      "[10, 12]\n"
     ]
    }
   ],
   "source": [
    "maram.my_position()"
   ]
  },
  {
   "cell_type": "code",
   "execution_count": 55,
   "metadata": {},
   "outputs": [
    {
     "name": "stdout",
     "output_type": "stream",
     "text": [
      "15.620499351813308\n"
     ]
    }
   ],
   "source": [
    "maram.my_distance()"
   ]
  },
  {
   "cell_type": "raw",
   "metadata": {},
   "source": []
  },
  {
   "cell_type": "markdown",
   "metadata": {},
   "source": []
  }
 ],
 "metadata": {
  "kernelspec": {
   "display_name": "Python 3",
   "language": "python",
   "name": "python3"
  },
  "language_info": {
   "codemirror_mode": {
    "name": "ipython",
    "version": 3
   },
   "file_extension": ".py",
   "mimetype": "text/x-python",
   "name": "python",
   "nbconvert_exporter": "python",
   "pygments_lexer": "ipython3",
   "version": "3.7.1"
  }
 },
 "nbformat": 4,
 "nbformat_minor": 2
}
